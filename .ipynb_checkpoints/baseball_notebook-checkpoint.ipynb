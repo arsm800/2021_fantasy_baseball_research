{
 "cells": [
  {
   "cell_type": "code",
   "execution_count": 1,
   "metadata": {},
   "outputs": [],
   "source": [
    "import pandas as pd\n",
    "import numpy as np\n",
    "from pathlib import Path\n",
    "%matplotlib inline"
   ]
  },
  {
   "cell_type": "code",
   "execution_count": 2,
   "metadata": {},
   "outputs": [],
   "source": [
    "# Convert files into DataFrames\n",
    "\n",
    "Path.cwd()\n",
    "\n",
    "file_path_hitters = Path('./resources/2021_fantasy_baseball_research_hitters.xlsx')\n",
    "file_path_pitchers = Path('./resources/2021_fantasy_baseball_research_starting_pitching.xlsx')\n",
    "\n",
    "df_hitters = pd.read_excel(file_path_hitters)\n",
    "df_pitchers = pd.read_excel(file_path_pitchers)"
   ]
  },
  {
   "cell_type": "code",
   "execution_count": 3,
   "metadata": {},
   "outputs": [
    {
     "data": {
      "text/plain": [
       "(371, 39)"
      ]
     },
     "execution_count": 3,
     "metadata": {},
     "output_type": "execute_result"
    }
   ],
   "source": [
    "df_hitters.shape"
   ]
  },
  {
   "cell_type": "code",
   "execution_count": 4,
   "metadata": {},
   "outputs": [
    {
     "data": {
      "text/plain": [
       "My Rank                916\n",
       "Rk                       0\n",
       "Name                     0\n",
       "Age                      0\n",
       "Tm                       0\n",
       "Lg                       0\n",
       "G                        0\n",
       "PA                       0\n",
       "AB                       0\n",
       "R                        0\n",
       "H                        0\n",
       "2B                       0\n",
       "3B                       0\n",
       "HR                       0\n",
       "RBI                      0\n",
       "SB                       0\n",
       "CS                       0\n",
       "BB                       0\n",
       "SO                       0\n",
       "BA                       0\n",
       "OBP                      0\n",
       "SLG                      0\n",
       "OPS                      0\n",
       "OPS+                     0\n",
       "TB                       0\n",
       "GDP                      0\n",
       "HBP                      0\n",
       "SH                       0\n",
       "SF                       0\n",
       "IBB                      0\n",
       "Pos Summary              0\n",
       "CBS Fantasy Points       0\n",
       "Comments              1002\n",
       "dtype: int64"
      ]
     },
     "execution_count": 4,
     "metadata": {},
     "output_type": "execute_result"
    }
   ],
   "source": [
    "# Clean data\n",
    "\n",
    "# Set index column\n",
    "# Check for nulls\n",
    "df_hitters.isnull().sum()"
   ]
  },
  {
   "cell_type": "code",
   "execution_count": null,
   "metadata": {},
   "outputs": [],
   "source": []
  }
 ],
 "metadata": {
  "kernelspec": {
   "display_name": "Python 3",
   "language": "python",
   "name": "python3"
  },
  "language_info": {
   "codemirror_mode": {
    "name": "ipython",
    "version": 3
   },
   "file_extension": ".py",
   "mimetype": "text/x-python",
   "name": "python",
   "nbconvert_exporter": "python",
   "pygments_lexer": "ipython3",
   "version": "3.7.7"
  }
 },
 "nbformat": 4,
 "nbformat_minor": 4
}
